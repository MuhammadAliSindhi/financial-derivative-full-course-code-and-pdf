{
 "cells": [
  {
   "cell_type": "code",
   "execution_count": null,
   "id": "71ce77f3",
   "metadata": {},
   "outputs": [],
   "source": [
    "# Bismillah"
   ]
  },
  {
   "cell_type": "code",
   "execution_count": null,
   "id": "d9f7c8b7",
   "metadata": {},
   "outputs": [],
   "source": [
    "import numpy as np\n",
    "import pandas as pd"
   ]
  },
  {
   "cell_type": "markdown",
   "id": "e59be610",
   "metadata": {},
   "source": [
    "# The Series\n",
    "    * A one-dimensional array\n",
    "    * Holds a single data type\n",
    "    * Allows access to elements through the associated index labels - helps in allignment of multiple series."
   ]
  },
  {
   "cell_type": "code",
   "execution_count": null,
   "id": "2be0a748",
   "metadata": {},
   "outputs": [],
   "source": [
    "np.random.randn(100) # numpy array"
   ]
  },
  {
   "cell_type": "code",
   "execution_count": null,
   "id": "b1c40e94",
   "metadata": {},
   "outputs": [],
   "source": [
    "s = pd.Series(np.random.randn(100)) # pandas series"
   ]
  },
  {
   "cell_type": "code",
   "execution_count": null,
   "id": "0504c2c0",
   "metadata": {},
   "outputs": [],
   "source": [
    "s"
   ]
  },
  {
   "cell_type": "code",
   "execution_count": null,
   "id": "7685a24d",
   "metadata": {},
   "outputs": [],
   "source": [
    "s[2] # grab a value located at index 2."
   ]
  },
  {
   "cell_type": "code",
   "execution_count": null,
   "id": "f2316bb6",
   "metadata": {},
   "outputs": [],
   "source": [
    "# s[2, 4] # error since no single index, 2 4, exists."
   ]
  },
  {
   "cell_type": "code",
   "execution_count": null,
   "id": "9e0a1d6f",
   "metadata": {},
   "outputs": [],
   "source": [
    "s[[2, 4]] # the inner [] indicates multiple indices given."
   ]
  },
  {
   "cell_type": "code",
   "execution_count": null,
   "id": "be9352f7",
   "metadata": {},
   "outputs": [],
   "source": [
    "s[5:10] # slicing doesn't need [] since there is no confusion."
   ]
  },
  {
   "cell_type": "code",
   "execution_count": null,
   "id": "fcf52d20",
   "metadata": {},
   "outputs": [],
   "source": [
    "s.head()"
   ]
  },
  {
   "cell_type": "code",
   "execution_count": null,
   "id": "ab61ee70",
   "metadata": {},
   "outputs": [],
   "source": [
    "s.tail()"
   ]
  },
  {
   "cell_type": "code",
   "execution_count": null,
   "id": "5b093b15",
   "metadata": {},
   "outputs": [],
   "source": [
    "s.shape # 100 rows. Attribute and not method."
   ]
  },
  {
   "cell_type": "code",
   "execution_count": null,
   "id": "112aba10",
   "metadata": {},
   "outputs": [],
   "source": [
    "s.index # Attribute and not method."
   ]
  },
  {
   "cell_type": "code",
   "execution_count": null,
   "id": "e43adab9",
   "metadata": {},
   "outputs": [],
   "source": [
    "s.values"
   ]
  },
  {
   "cell_type": "code",
   "execution_count": null,
   "id": "32f5bfe1",
   "metadata": {},
   "outputs": [],
   "source": [
    "s = pd.Series([1, 2, 3, 4], index = ['a', 'b', 'c', 'd']) \n",
    "# [] to indicate multiple values as usual. Indices assigned at the time of constructing a series.\n",
    "# Series created through a list."
   ]
  },
  {
   "cell_type": "code",
   "execution_count": null,
   "id": "3332c430",
   "metadata": {},
   "outputs": [],
   "source": [
    "s"
   ]
  },
  {
   "cell_type": "code",
   "execution_count": null,
   "id": "22a0aef7",
   "metadata": {},
   "outputs": [],
   "source": [
    "s = pd.Series({'a': 1, 'b': 2, 'c': 3, 'd': 4})\n",
    "# Series created through a dictionary. The keys are the indices in the series."
   ]
  },
  {
   "cell_type": "code",
   "execution_count": null,
   "id": "913700e4",
   "metadata": {},
   "outputs": [],
   "source": [
    "s"
   ]
  },
  {
   "cell_type": "code",
   "execution_count": null,
   "id": "f377bedf",
   "metadata": {},
   "outputs": [],
   "source": [
    "s = pd.Series([1, 2, 3, 4, np.nan])\n",
    "# np.nan so that the pandas know that this value is missing."
   ]
  },
  {
   "cell_type": "code",
   "execution_count": null,
   "id": "cbdc2adb",
   "metadata": {},
   "outputs": [],
   "source": [
    "s"
   ]
  },
  {
   "cell_type": "code",
   "execution_count": null,
   "id": "3be6c713",
   "metadata": {},
   "outputs": [],
   "source": [
    "len(s)\n",
    "# includes a missing avalue as well."
   ]
  },
  {
   "cell_type": "code",
   "execution_count": null,
   "id": "ce7cae5d",
   "metadata": {},
   "outputs": [],
   "source": [
    "s.count()\n",
    "# excludes missing value."
   ]
  },
  {
   "cell_type": "code",
   "execution_count": null,
   "id": "a84c3cdb",
   "metadata": {},
   "outputs": [],
   "source": [
    "s = pd.Series([10, 3 , 4, 5, 7, 7, 9, 10, np.nan])"
   ]
  },
  {
   "cell_type": "code",
   "execution_count": null,
   "id": "c5561e93",
   "metadata": {},
   "outputs": [],
   "source": [
    "s"
   ]
  },
  {
   "cell_type": "code",
   "execution_count": null,
   "id": "2e789c88",
   "metadata": {},
   "outputs": [],
   "source": [
    "s.unique()\n",
    "# returns only unique values. That is, avoid repeatition of the same value.\n",
    "# returns the missing value as well."
   ]
  },
  {
   "cell_type": "code",
   "execution_count": null,
   "id": "4a54c2e8",
   "metadata": {},
   "outputs": [],
   "source": [
    "s.value_counts()\n",
    "# returns frrequency distribution in descending order. For ascending order, ascending = True.\n",
    "# excludes a missing value."
   ]
  },
  {
   "cell_type": "code",
   "execution_count": null,
   "id": "832d3115",
   "metadata": {},
   "outputs": [],
   "source": [
    "s.value_counts(ascending = True) # go from smaller values to larger values."
   ]
  },
  {
   "cell_type": "code",
   "execution_count": null,
   "id": "9c0e4a48",
   "metadata": {},
   "outputs": [],
   "source": [
    "s.value_counts(normalize = True) # to grab percentages. ascending = False is the default argument.\n"
   ]
  },
  {
   "cell_type": "code",
   "execution_count": null,
   "id": "294df128",
   "metadata": {},
   "outputs": [],
   "source": [
    "s1 = pd.Series([1, 2, 3, 4], index = ['a', 'b', 'c', 'd'])\n",
    "s2 = pd.Series([4, 3, 2, 1], index = ['d', 'c', 'b', 'a'])"
   ]
  },
  {
   "cell_type": "code",
   "execution_count": null,
   "id": "2f284b22",
   "metadata": {},
   "outputs": [],
   "source": [
    "s1 + s2\n",
    "# The allignment is done automatically on the basis of index labels.\n",
    "# This feature does not exist in numpy array. See below."
   ]
  },
  {
   "cell_type": "code",
   "execution_count": null,
   "id": "c81bb83f",
   "metadata": {},
   "outputs": [],
   "source": [
    "a1 = np.array([1, 2, 3, 4])\n",
    "a2 = np.array([4, 3, 2, 1])"
   ]
  },
  {
   "cell_type": "code",
   "execution_count": null,
   "id": "16f4e3b1",
   "metadata": {},
   "outputs": [],
   "source": [
    "a1"
   ]
  },
  {
   "cell_type": "code",
   "execution_count": null,
   "id": "c81a143f",
   "metadata": {},
   "outputs": [],
   "source": [
    "a2"
   ]
  },
  {
   "cell_type": "code",
   "execution_count": null,
   "id": "ca743c91",
   "metadata": {},
   "outputs": [],
   "source": [
    "a1 + a2\n",
    "# each corresponding element from both the arrays must be added. No flexibility of adding any two desriable elements of\n",
    "# array located at different indices."
   ]
  }
 ],
 "metadata": {
  "kernelspec": {
   "display_name": "Python 3 (ipykernel)",
   "language": "python",
   "name": "python3"
  },
  "language_info": {
   "codemirror_mode": {
    "name": "ipython",
    "version": 3
   },
   "file_extension": ".py",
   "mimetype": "text/x-python",
   "name": "python",
   "nbconvert_exporter": "python",
   "pygments_lexer": "ipython3",
   "version": "3.10.0"
  }
 },
 "nbformat": 4,
 "nbformat_minor": 5
}

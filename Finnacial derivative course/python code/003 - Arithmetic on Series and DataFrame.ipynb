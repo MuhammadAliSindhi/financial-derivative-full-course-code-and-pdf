{
 "cells": [
  {
   "cell_type": "code",
   "execution_count": null,
   "id": "94b4e689-2e61-4f2e-b55d-b8c1c50f0356",
   "metadata": {},
   "outputs": [],
   "source": [
    "# Bismillah"
   ]
  },
  {
   "cell_type": "code",
   "execution_count": null,
   "id": "6d6a6496-85a3-405c-b52d-c231a9a0bb0b",
   "metadata": {},
   "outputs": [],
   "source": [
    "import pandas as pd\n",
    "import numpy as np"
   ]
  },
  {
   "cell_type": "code",
   "execution_count": null,
   "id": "106821ef-28da-4f31-8a2b-366a512c16ee",
   "metadata": {},
   "outputs": [],
   "source": [
    "array = np.arange(12).reshape(3, 4)\n",
    "array\n",
    "# We get 2-D array."
   ]
  },
  {
   "cell_type": "code",
   "execution_count": null,
   "id": "21f9bfa6-2b7a-4d92-9150-adf9e29f5815",
   "metadata": {},
   "outputs": [],
   "source": [
    "array[0]\n",
    "# it will extract the first row from the 2-D array."
   ]
  },
  {
   "cell_type": "code",
   "execution_count": null,
   "id": "e556286e-2b45-4e97-bdf5-e5c14bbed432",
   "metadata": {},
   "outputs": [],
   "source": [
    "array - array[0]\n",
    "# The subtraction is performed once for each row. This is knows as broadcasting by rows. \n",
    "# Operations between a dataframe and series are similar."
   ]
  },
  {
   "cell_type": "markdown",
   "id": "1fdaca6e-53a4-4c78-bc01-1b15337b4f0c",
   "metadata": {},
   "source": [
    "## Series and DataFrame:"
   ]
  },
  {
   "cell_type": "markdown",
   "id": "892e6ddf-a1b6-4cbf-b20d-754a7566f6ee",
   "metadata": {},
   "source": [
    "#### By default, arithmetic between dataframe and series matches the index of the series on the dataframe's columns, broadcasting down the rows. In other words, the index of the series will be matched against columns' headings and then the required arithmetic operation will be performed. This will be done for all the rows one by one. This allignment based on columns followed by the arithmetic operation for each row is called Broadcasting Over the Rows (Matching on the columns).\n",
    "\n",
    "#### The opposite occurs when the allignment is based on rows (index of the series is matched against the rows' indexes/labels in the dataframe) followed by the arithmetic operation for each column is called Broadcasting Over the Columns (Matching on the rows)."
   ]
  },
  {
   "cell_type": "code",
   "execution_count": null,
   "id": "e24d0ffd-1f53-4440-8e96-1f5cde93d808",
   "metadata": {},
   "outputs": [],
   "source": [
    "frame = pd.DataFrame(np.arange(12).reshape(4, 3), columns = list('bde'), index = ['Pes', 'Isb', 'Lhr', 'Kch'])\n",
    "frame"
   ]
  },
  {
   "cell_type": "code",
   "execution_count": null,
   "id": "5efff8e6-8328-4975-97f5-c2746b0e7b14",
   "metadata": {},
   "outputs": [],
   "source": [
    "series = frame.iloc[0]\n",
    "series\n",
    "# the series contains zeroth row from the dataframe with indexes b, d, and e."
   ]
  },
  {
   "cell_type": "code",
   "execution_count": null,
   "id": "715c0187-b007-4ef4-99fe-434472e3e311",
   "metadata": {},
   "outputs": [],
   "source": [
    "frame - series\n",
    "# By default, the indexes in the series will be matched against columns' headings in the dataframe and then subtraction will be\n",
    "# performed. This process will be performed for each row (broadcasting over rows)."
   ]
  },
  {
   "cell_type": "markdown",
   "id": "ffa5ca0d-d185-4c6d-89f5-c6e58c42326e",
   "metadata": {},
   "source": [
    "#### Series2: contains row 1 in the dataframe."
   ]
  },
  {
   "cell_type": "code",
   "execution_count": null,
   "id": "ba9c9e86-b9b5-40f1-8c30-d4b225b6de2a",
   "metadata": {},
   "outputs": [],
   "source": [
    "series2 = pd.Series(range(3), index = ['b', 'e', 'f'])\n",
    "series2"
   ]
  },
  {
   "cell_type": "code",
   "execution_count": null,
   "id": "750e0e17-7f9b-4cef-995c-118a05704c14",
   "metadata": {},
   "outputs": [],
   "source": [
    "frame, series2"
   ]
  },
  {
   "cell_type": "code",
   "execution_count": null,
   "id": "4744eea8-1fcb-4ff2-bb96-9aa7cf862c91",
   "metadata": {},
   "outputs": [],
   "source": [
    "frame + series2\n",
    "# same broadcasting over the rows (matching series indexes with the columns' headings in the dataframe)."
   ]
  },
  {
   "cell_type": "markdown",
   "id": "0f18f439-60e3-42e2-8bb9-3dfd050b8c2b",
   "metadata": {},
   "source": [
    "#### Series3: contains column d of the dataframe."
   ]
  },
  {
   "cell_type": "code",
   "execution_count": null,
   "id": "9a66aceb-c90c-40b2-865e-b91e109a4e25",
   "metadata": {},
   "outputs": [],
   "source": [
    "frame"
   ]
  },
  {
   "cell_type": "code",
   "execution_count": null,
   "id": "4d4fe6c1-2117-4143-a12e-e1dc306fa939",
   "metadata": {},
   "outputs": [],
   "source": [
    "series3 = frame['d']\n",
    "series3"
   ]
  },
  {
   "cell_type": "code",
   "execution_count": null,
   "id": "6dd20e9c-b204-4c83-9e82-51d09a76016c",
   "metadata": {},
   "outputs": [],
   "source": [
    "frame - series3\n",
    "# same broadcasting over the rows (matching series indexes with the columns' headings in the dataframe) and inserting\n",
    "# missing value for each non-alignment occured. The total number of alignment tried should be 4 (row indexes in \n",
    "# the series) multiplied by 4 (number of rows in the dataframe) plus 3 (number of columns in the dataframe) multiplied\n",
    "# by 4 (number of rows in the dataframe) which results into total number of 28. So, the total number of NaN inserted\n",
    "# in the new dataframe after subtraction is 28."
   ]
  },
  {
   "cell_type": "code",
   "execution_count": null,
   "id": "71437fa4-56f1-4318-8ac9-eb0b6ad9d954",
   "metadata": {},
   "outputs": [],
   "source": [
    "frame"
   ]
  },
  {
   "cell_type": "code",
   "execution_count": null,
   "id": "f64d5769-9628-43ee-a20e-2bb8c83fac68",
   "metadata": {},
   "outputs": [],
   "source": [
    "series3"
   ]
  },
  {
   "cell_type": "code",
   "execution_count": null,
   "id": "e6a724a5-5227-4fe5-9dc0-7735c4cedd49",
   "metadata": {},
   "outputs": [],
   "source": [
    "frame.sub(series3, axis = 'index')\n",
    "# axis is the axis to match on. In this case, we want to match on the dataframe's row index and broadcast across the columns,\n",
    "# that is, the alignment is done based on the dataframe's row index and then subtraction is performed and this is done for each\n",
    "# column now, so broadcasting across the columns."
   ]
  },
  {
   "cell_type": "code",
   "execution_count": null,
   "id": "12788215-a29e-44e4-ab68-9e3d7fcf1d4e",
   "metadata": {},
   "outputs": [],
   "source": []
  }
 ],
 "metadata": {
  "kernelspec": {
   "display_name": "Python 3 (ipykernel)",
   "language": "python",
   "name": "python3"
  },
  "language_info": {
   "codemirror_mode": {
    "name": "ipython",
    "version": 3
   },
   "file_extension": ".py",
   "mimetype": "text/x-python",
   "name": "python",
   "nbconvert_exporter": "python",
   "pygments_lexer": "ipython3",
   "version": "3.10.0"
  }
 },
 "nbformat": 4,
 "nbformat_minor": 5
}

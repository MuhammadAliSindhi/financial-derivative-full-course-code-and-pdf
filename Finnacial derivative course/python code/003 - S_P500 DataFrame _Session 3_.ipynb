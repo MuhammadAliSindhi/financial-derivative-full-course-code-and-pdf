{
 "cells": [
  {
   "cell_type": "code",
   "execution_count": null,
   "id": "2d0e4734",
   "metadata": {},
   "outputs": [],
   "source": [
    "# Bismillah"
   ]
  },
  {
   "cell_type": "code",
   "execution_count": null,
   "id": "0dd79ec5",
   "metadata": {},
   "outputs": [],
   "source": [
    "import pandas as pd"
   ]
  },
  {
   "cell_type": "code",
   "execution_count": null,
   "id": "2e15b27e",
   "metadata": {},
   "outputs": [],
   "source": [
    "sp500 = pd.read_csv('sp500.csv')"
   ]
  },
  {
   "cell_type": "code",
   "execution_count": null,
   "id": "a9a52b51",
   "metadata": {
    "scrolled": true
   },
   "outputs": [],
   "source": [
    "sp500\n",
    "# Explain briefly as many terms as possible.\n",
    "# 500 rows and 15 columns."
   ]
  },
  {
   "cell_type": "code",
   "execution_count": null,
   "id": "477e6e95",
   "metadata": {},
   "outputs": [],
   "source": [
    "sp500.shape"
   ]
  },
  {
   "cell_type": "code",
   "execution_count": null,
   "id": "14826483",
   "metadata": {},
   "outputs": [],
   "source": [
    "sp500 = pd.read_csv('sp500.csv', index_col = 'Symbol', usecols = [0, 2, 3, 7])"
   ]
  },
  {
   "cell_type": "code",
   "execution_count": null,
   "id": "053f0a7a",
   "metadata": {},
   "outputs": [],
   "source": [
    "sp500.head(3)"
   ]
  },
  {
   "cell_type": "code",
   "execution_count": null,
   "id": "0279721f",
   "metadata": {},
   "outputs": [],
   "source": [
    "sp500.index"
   ]
  },
  {
   "cell_type": "markdown",
   "id": "93336192",
   "metadata": {},
   "source": [
    "# Selecting columns and rows of a DataFrame\n",
    "    * Selecting column rquires [] operator.\n",
    "    * Secting row requires iloc, loc or slicing with [] operator."
   ]
  },
  {
   "cell_type": "code",
   "execution_count": null,
   "id": "8bb8e9e4",
   "metadata": {},
   "outputs": [],
   "source": [
    "sp500['Price']\n",
    "# sp500[column or columns]. No argument for the row or rows except in loc, iloc, or slicing."
   ]
  },
  {
   "cell_type": "code",
   "execution_count": null,
   "id": "b354daf5",
   "metadata": {},
   "outputs": [],
   "source": [
    "sp500[['Price', 'Sector']]"
   ]
  },
  {
   "cell_type": "code",
   "execution_count": null,
   "id": "1cb6be8d",
   "metadata": {},
   "outputs": [],
   "source": [
    "sp500['ABT':'ACE']\n",
    "# ACE inclusive.\n",
    "# Example of [] with slicing for rows. Also, due to (:), no inner [] needed for clarification.\n",
    "# This kind of slicing only permitted for rows."
   ]
  },
  {
   "cell_type": "code",
   "execution_count": null,
   "id": "efa16323",
   "metadata": {},
   "outputs": [],
   "source": [
    "# iloc: Note that we have labels for all rows and columns but still we can access them using integers in iloc."
   ]
  },
  {
   "cell_type": "code",
   "execution_count": null,
   "id": "a5bc1685",
   "metadata": {},
   "outputs": [],
   "source": [
    "sp500[:3]\n",
    "# again slicing for rows with []."
   ]
  },
  {
   "cell_type": "code",
   "execution_count": null,
   "id": "73f8e1d5",
   "metadata": {},
   "outputs": [],
   "source": [
    "sp500.iloc[0]\n",
    "# iloc[row or rows, column or columns]. 0 taken as an argument for row. Column argument is optional.\n",
    "# Also, iloc stands for integer location and accepts only integers as index positions."
   ]
  },
  {
   "cell_type": "code",
   "execution_count": null,
   "id": "d6182698",
   "metadata": {},
   "outputs": [],
   "source": [
    "sp500.iloc[0, 1]"
   ]
  },
  {
   "cell_type": "code",
   "execution_count": null,
   "id": "66a9c48d",
   "metadata": {},
   "outputs": [],
   "source": [
    "sp500.iloc[[0 , 1]]"
   ]
  },
  {
   "cell_type": "code",
   "execution_count": null,
   "id": "a067d776",
   "metadata": {},
   "outputs": [],
   "source": [
    "sp500.iloc[[0, 1], 1]"
   ]
  },
  {
   "cell_type": "code",
   "execution_count": null,
   "id": "65200b9d",
   "metadata": {},
   "outputs": [],
   "source": [
    "sp500.iloc[0, [1, 2]]"
   ]
  },
  {
   "cell_type": "code",
   "execution_count": null,
   "id": "88c53d38",
   "metadata": {},
   "outputs": [],
   "source": [
    "sp500.iloc[[0, 1], [1, 0]]"
   ]
  },
  {
   "cell_type": "code",
   "execution_count": null,
   "id": "4aac78df",
   "metadata": {},
   "outputs": [],
   "source": [
    "i = sp500.index.get_loc('ABT')\n",
    "i\n",
    "# get location or index of row labeled 'ABT'\n",
    "# useful when the integer index of a row is unknown. It can be then extracted with the help of the row label."
   ]
  },
  {
   "cell_type": "code",
   "execution_count": null,
   "id": "1c93d1a4",
   "metadata": {},
   "outputs": [],
   "source": [
    "sp500.iloc[i]\n",
    "# i evaluates to 1."
   ]
  },
  {
   "cell_type": "code",
   "execution_count": null,
   "id": "be0274ff",
   "metadata": {},
   "outputs": [],
   "source": [
    "# loc: labels are used in loc to extract rows and columns."
   ]
  },
  {
   "cell_type": "code",
   "execution_count": null,
   "id": "3aa3d61b",
   "metadata": {},
   "outputs": [],
   "source": [
    "sp500.head(4)"
   ]
  },
  {
   "cell_type": "code",
   "execution_count": null,
   "id": "9862756d",
   "metadata": {},
   "outputs": [],
   "source": [
    "sp500.loc['ABT']"
   ]
  },
  {
   "cell_type": "code",
   "execution_count": null,
   "id": "f49083d8",
   "metadata": {},
   "outputs": [],
   "source": [
    "sp500.loc['ABT', 'Price']\n",
    "# after comma, the argument is for column."
   ]
  },
  {
   "cell_type": "code",
   "execution_count": null,
   "id": "54bf1571",
   "metadata": {},
   "outputs": [],
   "source": [
    "sp500.loc[['ABT', 'ACN'], 'Price']"
   ]
  },
  {
   "cell_type": "code",
   "execution_count": null,
   "id": "f23feba2",
   "metadata": {},
   "outputs": [],
   "source": [
    "sp500.loc[['ABT', 'ACN'], ['Price', 'Book Value']]"
   ]
  },
  {
   "cell_type": "code",
   "execution_count": null,
   "id": "d4a2519e",
   "metadata": {},
   "outputs": [],
   "source": [
    "# Other methods (.ix and .at) also exists, but we will use .loc and .iloc."
   ]
  },
  {
   "cell_type": "code",
   "execution_count": null,
   "id": "94ef7ed0",
   "metadata": {},
   "outputs": [],
   "source": [
    "# Boolean Selection (based on condition):"
   ]
  },
  {
   "cell_type": "code",
   "execution_count": null,
   "id": "a0751069",
   "metadata": {},
   "outputs": [],
   "source": [
    "sp500['Price'] < 100\n",
    "# returns a series of true and false."
   ]
  },
  {
   "cell_type": "code",
   "execution_count": null,
   "id": "7576b80a",
   "metadata": {},
   "outputs": [],
   "source": [
    "sp500[sp500['Price'] < 100]\n",
    "# outputs those rows in dataframe where the value is True."
   ]
  },
  {
   "cell_type": "code",
   "execution_count": null,
   "id": "38a9458b",
   "metadata": {},
   "outputs": [],
   "source": [
    "sp500[sp500['Price'] < 100][['Price', 'Book Value']]"
   ]
  },
  {
   "cell_type": "markdown",
   "id": "1d695f25",
   "metadata": {},
   "source": [
    "# Arithmatic Operations on DataFrame"
   ]
  },
  {
   "cell_type": "code",
   "execution_count": null,
   "id": "8f75ab82",
   "metadata": {},
   "outputs": [],
   "source": [
    "df = pd.DataFrame([[1, 2, 3, 4], [5, 6, 7, 8], [9, 10, 11, 12], [2, 4, 6, 8]], columns = ['A', 'B', 'C', 'D'])\n",
    "df"
   ]
  },
  {
   "cell_type": "code",
   "execution_count": null,
   "id": "f4f3f24d",
   "metadata": {},
   "outputs": [],
   "source": [
    "df*2\n",
    "# multiplies 2 with every element in the dataframe."
   ]
  },
  {
   "cell_type": "code",
   "execution_count": null,
   "id": "2a597dc6",
   "metadata": {},
   "outputs": [],
   "source": [
    "df.iloc[0]"
   ]
  },
  {
   "cell_type": "code",
   "execution_count": null,
   "id": "d90bb3a7",
   "metadata": {},
   "outputs": [],
   "source": [
    "df - df.iloc[0]\n",
    "# subtract the zeroth row from every row in the dataframe."
   ]
  },
  {
   "cell_type": "code",
   "execution_count": null,
   "id": "e1f944e6",
   "metadata": {},
   "outputs": [],
   "source": [
    "df"
   ]
  },
  {
   "cell_type": "code",
   "execution_count": null,
   "id": "5ea89dcb",
   "metadata": {},
   "outputs": [],
   "source": [
    "subframe = df.iloc[0:2][['C', 'D']]\n",
    "subframe"
   ]
  },
  {
   "cell_type": "code",
   "execution_count": null,
   "id": "9d2e25ad",
   "metadata": {},
   "outputs": [],
   "source": [
    "df - subframe\n",
    "# Alligns on both column and index(row) labels. \n",
    "# All non-alligning values are converted to NaN, missing values."
   ]
  },
  {
   "cell_type": "code",
   "execution_count": null,
   "id": "bd90be24",
   "metadata": {},
   "outputs": [],
   "source": [
    "df"
   ]
  },
  {
   "cell_type": "code",
   "execution_count": null,
   "id": "ac3d0c29",
   "metadata": {},
   "outputs": [],
   "source": [
    "a_col = df['A']\n",
    "a_col"
   ]
  },
  {
   "cell_type": "code",
   "execution_count": null,
   "id": "8f026849",
   "metadata": {},
   "outputs": [],
   "source": [
    "df.sub(a_col, axis = 0)\n",
    "# .sub makes subtraction.\n",
    "# axis = 0 is for column. Column A will be subtracted from every column."
   ]
  },
  {
   "cell_type": "code",
   "execution_count": null,
   "id": "18672a34",
   "metadata": {},
   "outputs": [],
   "source": [
    "df.sub(a_col, axis = 1)\n",
    "# axis =1 says to subtract a_col (which contains column A) from row. Since a_col is a column (A) it can be subtracted\n",
    "# only from columns and not from rows."
   ]
  },
  {
   "cell_type": "markdown",
   "id": "dfb27723",
   "metadata": {},
   "source": [
    "# Indexing a series"
   ]
  },
  {
   "cell_type": "code",
   "execution_count": null,
   "id": "0438f09a",
   "metadata": {},
   "outputs": [],
   "source": [
    "s = pd.Series([10, 20, 30, 40, 50])\n",
    "s"
   ]
  },
  {
   "cell_type": "code",
   "execution_count": null,
   "id": "b6d8c5f9",
   "metadata": {},
   "outputs": [],
   "source": [
    "s.index = ['a', 'b', 'c', 'd', 'e']\n",
    "s"
   ]
  },
  {
   "cell_type": "code",
   "execution_count": null,
   "id": "d2b90013",
   "metadata": {},
   "outputs": [],
   "source": [
    "s1 = pd.Series([0, 1, 2], index = [0, 1, 2])\n",
    "s2 = pd.Series([3, 4, 5], index = ['0', '1', '2'])"
   ]
  },
  {
   "cell_type": "code",
   "execution_count": null,
   "id": "ddb578c6",
   "metadata": {},
   "outputs": [],
   "source": [
    "s1\n",
    "# the indices are integers."
   ]
  },
  {
   "cell_type": "code",
   "execution_count": null,
   "id": "87e7bddd",
   "metadata": {},
   "outputs": [],
   "source": [
    "s2\n",
    "# the indices are strings."
   ]
  },
  {
   "cell_type": "code",
   "execution_count": null,
   "id": "0517d107",
   "metadata": {},
   "outputs": [],
   "source": [
    "s1 + s2\n",
    "# the indices from both the seires cannot be matched, so the values in both the series cannot be added.\n",
    "# Since Pandas cannot find the matching indices, so it copies the indices from the first series and tries to append the \n",
    "# indices from the second series. But since they are different types, it defaults back to a zero-based integer sequence,\n",
    "# which results in duplicate values of indices. And finally, all the values are NaN because the operation tries to add\n",
    "# the item in the first series with the integer label 0, which has the value 0 but can't find the item in the other series\n",
    "# with the integer label 0, therefore, the result is NaN.\n",
    "# Two Steps Procedure: First, matching and addressing the indices. Second, doing the addition.\n",
    "# Once the problem has been identified, it can be easily fixed as in the following:"
   ]
  },
  {
   "cell_type": "code",
   "execution_count": null,
   "id": "20390f3a",
   "metadata": {},
   "outputs": [],
   "source": [
    "s2.index = s2.index.values.astype(int)\n",
    "s2.index"
   ]
  },
  {
   "cell_type": "code",
   "execution_count": null,
   "id": "60eb9f00",
   "metadata": {},
   "outputs": [],
   "source": [
    "s1 + s2"
   ]
  },
  {
   "cell_type": "code",
   "execution_count": null,
   "id": "15a139dd",
   "metadata": {},
   "outputs": [],
   "source": [
    "s"
   ]
  },
  {
   "cell_type": "code",
   "execution_count": null,
   "id": "c398609e",
   "metadata": {},
   "outputs": [],
   "source": [
    "s2 = s.copy()\n",
    "s2"
   ]
  },
  {
   "cell_type": "code",
   "execution_count": null,
   "id": "cd6683d1",
   "metadata": {},
   "outputs": [],
   "source": [
    "s2.reindex(['a', 'f'], fill_value = 0)\n",
    "# what is the need for writing 'a', when we want to put 0 only for index f?\n",
    "# This is meant to fill in 0 instead of NaN."
   ]
  },
  {
   "cell_type": "code",
   "execution_count": null,
   "id": "1253f8b4",
   "metadata": {},
   "outputs": [],
   "source": [
    "s2"
   ]
  },
  {
   "cell_type": "code",
   "execution_count": null,
   "id": "68c597b7",
   "metadata": {},
   "outputs": [],
   "source": [
    "s1 = pd.Series(['red', 'green', 'blue'], index = [0, 3, 5])\n",
    "s1"
   ]
  },
  {
   "cell_type": "code",
   "execution_count": null,
   "id": "18a18034",
   "metadata": {},
   "outputs": [],
   "source": [
    "s1.reindex([0, 1, 2, 3, 4, 5, 6], method = 'ffill')\n",
    "# forward filling for the given indices.\n",
    "# the series, s1, when printed has not changed though yet. Why? See below."
   ]
  },
  {
   "cell_type": "code",
   "execution_count": null,
   "id": "c4db6b10",
   "metadata": {},
   "outputs": [],
   "source": [
    "s1"
   ]
  },
  {
   "cell_type": "code",
   "execution_count": null,
   "id": "9ca6d382",
   "metadata": {},
   "outputs": [],
   "source": [
    "s1.reindex([0, 1, 2, 3, 4, 5, 6], method = 'bfill')\n",
    "# backward filling for the given indices.\n",
    "# the series, s1, when printed has not changed though yet. Why?"
   ]
  },
  {
   "cell_type": "code",
   "execution_count": null,
   "id": "2467fb2a",
   "metadata": {},
   "outputs": [],
   "source": []
  }
 ],
 "metadata": {
  "kernelspec": {
   "display_name": "Python 3 (ipykernel)",
   "language": "python",
   "name": "python3"
  },
  "language_info": {
   "codemirror_mode": {
    "name": "ipython",
    "version": 3
   },
   "file_extension": ".py",
   "mimetype": "text/x-python",
   "name": "python",
   "nbconvert_exporter": "python",
   "pygments_lexer": "ipython3",
   "version": "3.10.0"
  }
 },
 "nbformat": 4,
 "nbformat_minor": 5
}

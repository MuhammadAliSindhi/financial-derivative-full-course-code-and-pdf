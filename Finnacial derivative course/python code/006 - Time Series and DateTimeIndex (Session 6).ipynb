{
 "cells": [
  {
   "cell_type": "code",
   "execution_count": null,
   "id": "a1d8212d-1553-4c3c-9bb9-3ba62eda3100",
   "metadata": {},
   "outputs": [],
   "source": [
    "# Bismillah"
   ]
  },
  {
   "cell_type": "code",
   "execution_count": null,
   "id": "1e10a20b-ea03-4b15-ad40-470c878da1d6",
   "metadata": {},
   "outputs": [],
   "source": [
    "import numpy as np\n",
    "import pandas as pd\n",
    "import datetime\n",
    "import matplotlib.pyplot as plt\n",
    "%matplotlib inline\n",
    "pd.set_option('precision', 7)\n",
    "from pandas_datareader import data"
   ]
  },
  {
   "cell_type": "code",
   "execution_count": null,
   "id": "54f691f5-be4f-411d-be19-e9913eab5752",
   "metadata": {},
   "outputs": [],
   "source": [
    "type(2014-8-1)\n",
    "# it looks date to us, but for pandas, it is just an int. So, the operations permitted on date cannot be performed\n",
    "# on this int.\n",
    "# If we enter date in this format in datetime function, shown below, then we will get error since pandas does not\n",
    "# recognize date in this format as a date."
   ]
  },
  {
   "cell_type": "code",
   "execution_count": null,
   "id": "e6434fdd-2452-4564-bf76-fd244a4467e2",
   "metadata": {},
   "outputs": [],
   "source": [
    "datetime.datetime(2014, 8, 1, 9, 30, 45, 100000)\n",
    "# datetime object created. So, relevant operations can be performed on it now.\n",
    "# year, month, day, hours, minutes, seconds, and microseconds must be seperated by a comma."
   ]
  },
  {
   "cell_type": "code",
   "execution_count": null,
   "id": "263fc29a-4b30-42db-b19e-0ae2996f846a",
   "metadata": {},
   "outputs": [],
   "source": [
    "type(datetime.datetime(2014, 8, 1, 9, 30, 45, 100000))"
   ]
  },
  {
   "cell_type": "code",
   "execution_count": null,
   "id": "7136a38e-fd8f-4163-957d-84a0ff30992c",
   "metadata": {},
   "outputs": [],
   "source": [
    "dates = [datetime.datetime(2014, 8, 1), datetime.datetime(2014, 8, 2)]\n",
    "dates\n",
    "# a list of datetime objects created."
   ]
  },
  {
   "cell_type": "code",
   "execution_count": null,
   "id": "31a8d4d9-f1a1-44e5-b269-f97c4013c36c",
   "metadata": {},
   "outputs": [],
   "source": [
    "type(dates)"
   ]
  },
  {
   "cell_type": "code",
   "execution_count": null,
   "id": "dc015455-941d-4aa5-b9b1-0fc6b4182616",
   "metadata": {},
   "outputs": [],
   "source": [
    "type(dates[0])"
   ]
  },
  {
   "cell_type": "code",
   "execution_count": null,
   "id": "b528a867-9408-49cb-b650-e7701860bd76",
   "metadata": {},
   "outputs": [],
   "source": [
    "dti = pd.DatetimeIndex(dates)\n",
    "dti\n",
    "# datetime index created from a list of datetime objects. Each item in DatetimeIndex is an object of Timestamp class."
   ]
  },
  {
   "cell_type": "code",
   "execution_count": null,
   "id": "2f9a4eda-0cae-42b2-93cf-0946e5eb0eaf",
   "metadata": {},
   "outputs": [],
   "source": [
    "type(dti)"
   ]
  },
  {
   "cell_type": "code",
   "execution_count": null,
   "id": "5c67c91b-873e-4412-bf0a-551228e83150",
   "metadata": {},
   "outputs": [],
   "source": [
    "type(dti[0])"
   ]
  },
  {
   "cell_type": "code",
   "execution_count": null,
   "id": "7a8783eb-ba75-45a6-8419-b0cdc6073ff1",
   "metadata": {},
   "outputs": [],
   "source": [
    "ts = pd.Series(np.random.randn(2))\n",
    "ts\n",
    "# the index is zero-based integer index."
   ]
  },
  {
   "cell_type": "code",
   "execution_count": null,
   "id": "85c0cc02-51c1-4622-8916-109b1d87f937",
   "metadata": {},
   "outputs": [],
   "source": [
    "type(ts)"
   ]
  },
  {
   "cell_type": "code",
   "execution_count": null,
   "id": "a5829c5f-1bea-4371-877d-b43df1c5b509",
   "metadata": {},
   "outputs": [],
   "source": [
    "ts1 = pd.Series(np.random.randn(2), dates)\n",
    "ts1\n",
    "# the index is datetime index rather than zero-based integer index.\n",
    "# a series will automatically construct a DatetimeIndex as its index when passing a list of datetime objects (dates)\n",
    "# as the index parameter."
   ]
  },
  {
   "cell_type": "code",
   "execution_count": null,
   "id": "a69f02db-6635-48c8-a5a1-b539c00c7c04",
   "metadata": {},
   "outputs": [],
   "source": [
    "type(ts1)"
   ]
  },
  {
   "cell_type": "code",
   "execution_count": null,
   "id": "01ede082-2bca-47df-9e7c-73655a53e816",
   "metadata": {},
   "outputs": [],
   "source": [
    "ts2 = pd.Series(np.random.randn(2), dti)\n",
    "ts2\n",
    "# here we have directly passed the DatetimeIndex as the index parameter."
   ]
  },
  {
   "cell_type": "code",
   "execution_count": null,
   "id": "0c119c87-d974-4440-bf60-bdec1705dfb2",
   "metadata": {},
   "outputs": [],
   "source": [
    "type(ts2)"
   ]
  },
  {
   "cell_type": "code",
   "execution_count": null,
   "id": "ba11874a-3a92-4130-9a60-2943c27151a7",
   "metadata": {},
   "outputs": [],
   "source": [
    "ts2.index\n",
    "# the index of the series is DatetimeIndex as can be confirmed from the following type command."
   ]
  },
  {
   "cell_type": "code",
   "execution_count": null,
   "id": "378245bf-4465-4c10-b5c2-b763e46302c7",
   "metadata": {},
   "outputs": [],
   "source": [
    "type(ts2.index)"
   ]
  },
  {
   "cell_type": "code",
   "execution_count": null,
   "id": "cf80214f-f083-4958-9250-073f98c456f2",
   "metadata": {},
   "outputs": [],
   "source": [
    "# Important: The series object has taken the datetime objects (contained in the variable, dates) and constructed a \n",
    "# DatetimeIndex from the date values contained in the datetime objects. Each value of the DatetimeIndex is the \n",
    "# Timestamp object and each element (Timestamp) of the DatetimeIndex can be used to access the corresponding value in\n",
    "# the Series object. This is demonstrated in the following:"
   ]
  },
  {
   "cell_type": "code",
   "execution_count": null,
   "id": "e000d83a-a8aa-4c39-8c85-a50ad85c4d5b",
   "metadata": {},
   "outputs": [],
   "source": [
    "ts2"
   ]
  },
  {
   "cell_type": "code",
   "execution_count": null,
   "id": "4b20a8e5-ddeb-4441-844c-a18ef7281d78",
   "metadata": {},
   "outputs": [],
   "source": [
    "ts2['2014-08-01']\n",
    "# first row retreived using [] without slicing, loc or iloc. It is possible because there is only one column since\n",
    "# this is a series. So, all we can give is an argument for a row or rows so pandas doesn't get confused."
   ]
  },
  {
   "cell_type": "code",
   "execution_count": null,
   "id": "ba2142ec-9f3c-4787-845e-5e0ec29b7dad",
   "metadata": {},
   "outputs": [],
   "source": [
    "ts2['2014-08-01':'2014-08-02']\n",
    "# the end date is inclusive."
   ]
  },
  {
   "cell_type": "code",
   "execution_count": null,
   "id": "924366b7-9ece-4cf7-9023-6941966c6b68",
   "metadata": {},
   "outputs": [],
   "source": [
    "ts2[datetime(2014, 8, 1)]\n",
    "# instead of using the date in the string with - seperator, we can use the date with , seperator without '' to produce\n",
    "# the same output."
   ]
  },
  {
   "cell_type": "code",
   "execution_count": null,
   "id": "7482613f-f6e0-4366-8162-e41e184f8153",
   "metadata": {},
   "outputs": [],
   "source": [
    "# The next method to create DatetimeIndex by passing a list of dates in string as shown below:"
   ]
  },
  {
   "cell_type": "code",
   "execution_count": null,
   "id": "eddcb5c9-b319-4dcb-8b82-673128f34c66",
   "metadata": {},
   "outputs": [],
   "source": [
    "dates = ['2014-08-01', '2014-08-02']\n",
    "dates"
   ]
  },
  {
   "cell_type": "code",
   "execution_count": null,
   "id": "56e3d474-a7f1-46b3-8bce-03e93a6387d3",
   "metadata": {},
   "outputs": [],
   "source": [
    "type(dates)\n",
    "# list of strings."
   ]
  },
  {
   "cell_type": "code",
   "execution_count": null,
   "id": "de4323c9-272a-4b67-9739-7a1a9dc08bfd",
   "metadata": {},
   "outputs": [],
   "source": [
    "type(dates[0])\n",
    "# the first element (date) in the list is of type string and the same is the second element."
   ]
  },
  {
   "cell_type": "code",
   "execution_count": null,
   "id": "b52d6d88-f734-4a94-9651-32b58982cf29",
   "metadata": {},
   "outputs": [],
   "source": [
    "ts3 = pd.Series(np.random.randn(2), dates)\n",
    "ts3\n",
    "# here dates as a string have been passed as an index argument. But the pandas itself figured out that these are dates\n",
    "# and converted them into DatetimeIndex as shown below."
   ]
  },
  {
   "cell_type": "code",
   "execution_count": null,
   "id": "189143dd-6f7d-4234-85b7-15ce8ba83982",
   "metadata": {},
   "outputs": [],
   "source": [
    "type(ts3.index)"
   ]
  },
  {
   "cell_type": "code",
   "execution_count": null,
   "id": "564d662a-d99c-4adc-9737-44fece7fea35",
   "metadata": {},
   "outputs": [],
   "source": [
    "# convert a list of mixed type items/elements into DatetimeIndex using pandas' function, to_datetime()."
   ]
  },
  {
   "cell_type": "code",
   "execution_count": null,
   "id": "817c81f1-a7e8-4a37-8a28-caec69a6fbc1",
   "metadata": {},
   "outputs": [],
   "source": [
    "dti2 = pd.to_datetime(['Aug 1, 2014', '2014-08-02', '2014.8.3', None])\n",
    "dti2\n",
    "# note that all are strings in the list except the keyword, None.\n",
    "# all the strings have been converted into DatetimeIndex (pandas recognized dates as shown below:)\n",
    "# None has been converted into NaT (not a time-value), which means that the source data could not be converted into\n",
    "# datetime."
   ]
  },
  {
   "cell_type": "code",
   "execution_count": null,
   "id": "d2f68f0e-43ea-4e58-b547-f35c14761bb5",
   "metadata": {},
   "outputs": [],
   "source": [
    "type(dti2)"
   ]
  },
  {
   "cell_type": "code",
   "execution_count": null,
   "id": "68f43b44-e24b-454d-b42e-17dbd0034f7b",
   "metadata": {},
   "outputs": [],
   "source": [
    "#dti3 = pd.to_datetime(['Aug 1, 2014', '2014-08-02', '2014.8.3', 'foo'], coerce = True)\n",
    "# gives error. pandas cannot parse 'foo' since it does not seem like a date. Previously, pandas recognized the keyword\n",
    "# None, so didn't give the error and produced NaT. Also, the coerce parameter is not working here unlike in the book."
   ]
  },
  {
   "cell_type": "code",
   "execution_count": null,
   "id": "c96d50b8-59a2-4c46-a868-0a4a718f793d",
   "metadata": {},
   "outputs": [],
   "source": [
    "# Changing the date order: The default order is "
   ]
  },
  {
   "cell_type": "code",
   "execution_count": null,
   "id": "3a0b100d-3b9b-4a55-9028-3210fdcee4a4",
   "metadata": {},
   "outputs": [],
   "source": [
    "dti = pd.to_datetime(['2014, 8, 1'])\n",
    "dti\n",
    "# 8 is taken as a month and 1 as a date."
   ]
  },
  {
   "cell_type": "code",
   "execution_count": null,
   "id": "506a70bc-6ecf-4175-822a-8ffc8e37ca59",
   "metadata": {},
   "outputs": [],
   "source": [
    "dti = pd.to_datetime(['8, 1, 2014'])\n",
    "dti\n",
    "# same result produced, 8 is the month and 1 is the date."
   ]
  },
  {
   "cell_type": "code",
   "execution_count": null,
   "id": "b6e17dbc-a0da-4bfd-812f-95d4f3e9bed7",
   "metadata": {},
   "outputs": [],
   "source": [
    "dti = pd.to_datetime(['8, 1, 2014'], dayfirst = True)\n",
    "dti\n",
    "# if we mean to say that the date is 8th of January, then we have to tell pandas that the first argument is the day or\n",
    "# date by typing 'dayfirst = True' since by default pandas will treat the first value as the month and the second as\n",
    "# a day or date.\n",
    "# now the date is 8th of January as we desired."
   ]
  },
  {
   "cell_type": "code",
   "execution_count": null,
   "id": "fe1c8fd4-9bea-4e19-8f5f-abcada9b64bd",
   "metadata": {},
   "outputs": [],
   "source": [
    "dti[0]"
   ]
  },
  {
   "cell_type": "code",
   "execution_count": null,
   "id": "2d7f491e-65e7-402b-bf75-91f834f7e71c",
   "metadata": {},
   "outputs": [],
   "source": [
    "# Using date_range function to create DatetineIndex (a series of TimeStamps):"
   ]
  },
  {
   "cell_type": "code",
   "execution_count": null,
   "id": "09d44b18-69ac-44c9-b682-7c435a6e5e9a",
   "metadata": {},
   "outputs": [],
   "source": [
    "dates = pd.date_range('8, 1, 2014', periods = 10)\n",
    "dates"
   ]
  },
  {
   "cell_type": "code",
   "execution_count": null,
   "id": "d7e0a619-2b9a-42e0-986e-adc364af049d",
   "metadata": {},
   "outputs": [],
   "source": [
    "s1 = pd.Series(np.random.randn(10), dates)\n",
    "s1"
   ]
  },
  {
   "cell_type": "code",
   "execution_count": null,
   "id": "8e481936-569d-4218-9cfe-2fb25b8c936c",
   "metadata": {},
   "outputs": [],
   "source": [
    "s1.index"
   ]
  },
  {
   "cell_type": "code",
   "execution_count": null,
   "id": "4e0287a1-caed-4bc6-9d5f-9c389fe97f5b",
   "metadata": {},
   "outputs": [],
   "source": [
    "type(s1.index)"
   ]
  },
  {
   "cell_type": "markdown",
   "id": "39bb6256-9079-4eb4-b480-20bbbb859b24",
   "metadata": {},
   "source": [
    "# S&P 500 Example:"
   ]
  },
  {
   "cell_type": "code",
   "execution_count": null,
   "id": "d1b05e87-a2a0-4523-afc9-f284ce442d4c",
   "metadata": {},
   "outputs": [],
   "source": [
    "msft = data.DataReader('MSFT', 'yahoo', '2012-1-1', '2013-12-30')\n",
    "msft[:5]"
   ]
  },
  {
   "cell_type": "code",
   "execution_count": null,
   "id": "2528e749-c52e-4ec6-9e2a-59b3420eb274",
   "metadata": {},
   "outputs": [],
   "source": [
    "msft.loc['2012-01-03']\n",
    "# Thus, using DatetimeIndex, any desirable part of the dataframe can be accessed for any period."
   ]
  },
  {
   "cell_type": "code",
   "execution_count": null,
   "id": "9d90d661-196b-4134-aba6-0719a8053787",
   "metadata": {},
   "outputs": [],
   "source": [
    "msftAC = msft['Adj Close']\n",
    "msftAC.head(5)"
   ]
  },
  {
   "cell_type": "code",
   "execution_count": null,
   "id": "108bdc83-16d0-4c25-b8cb-a5ec42d4abaf",
   "metadata": {},
   "outputs": [],
   "source": [
    "msftAC['2012-01-03']\n",
    "# Nothe that msftAC is a series, therefore, a row index (which is DatetimeIndex) can be used with [] without slicing, \n",
    "# loc or iloc. "
   ]
  },
  {
   "cell_type": "code",
   "execution_count": null,
   "id": "7c03121a-9f49-4e81-b4f9-9d2885506b8e",
   "metadata": {},
   "outputs": [],
   "source": [
    "msftAC['2012-01-01':'2012-01-05']\n",
    "# DatetimeIndex can easily allow access to any chunk of dataframe for any desirable period."
   ]
  },
  {
   "cell_type": "code",
   "execution_count": null,
   "id": "6180b06d-f740-4278-8d88-48051dedb382",
   "metadata": {},
   "outputs": [],
   "source": [
    "msft['2012-02']\n",
    "# Note that this didn't require the use of the .loc method, as pandas first identifies this as a partial date and then\n",
    "# looks along the index of the dataframe instead of column (although .loc can be used to perform the same operation)."
   ]
  },
  {
   "cell_type": "code",
   "execution_count": null,
   "id": "387d8f7e-bdc8-4db2-8cf3-a22a734881b4",
   "metadata": {},
   "outputs": [],
   "source": [
    "msft['2012-02':'2012-02-09']\n",
    "# the slice will start at the beginning of the month."
   ]
  },
  {
   "cell_type": "markdown",
   "id": "156c61ac-c524-46b5-89fc-ad7293da2021",
   "metadata": {},
   "source": [
    "# Creating time-series with specific frequencies:"
   ]
  },
  {
   "cell_type": "code",
   "execution_count": null,
   "id": "437890a8-1a20-4e26-9b88-3de01652d293",
   "metadata": {},
   "outputs": [],
   "source": [
    "dates = pd.date_range('2014-08-01', '2014-10-29 23:59:00', freq = 'T')\n",
    "dates\n",
    "# create DatetimeIndex with hourly frequency. The default is 'D' for daily. Weekly, monthly etc is also possible."
   ]
  },
  {
   "cell_type": "code",
   "execution_count": null,
   "id": "2fcf534a-dd47-4460-83ec-449b864b69ce",
   "metadata": {},
   "outputs": [],
   "source": [
    "np_array = np.arange(0, 90 * 60 * 24)\n",
    "np_array"
   ]
  },
  {
   "cell_type": "code",
   "execution_count": null,
   "id": "d381d596-060e-4e2c-911f-a52b2d36257f",
   "metadata": {},
   "outputs": [],
   "source": [
    "bymin = pd.Series(np_array, dates)\n",
    "bymin\n",
    "# the first argument for the values of the series and the second one is for the index of the series."
   ]
  },
  {
   "cell_type": "code",
   "execution_count": null,
   "id": "b1790be9-d92a-4ed6-9f36-1243402e86ac",
   "metadata": {},
   "outputs": [],
   "source": [
    "bymin['2014-08-01 12:30:00':'2014-08-01 12:59']\n",
    "# the data can be extracted to the minute details."
   ]
  },
  {
   "cell_type": "markdown",
   "id": "1b03dd06-b49a-4e49-be50-63a55749a552",
   "metadata": {},
   "source": [
    "### Representing intervals of time using periods:\n",
    "#### Period () method is used to determine a period starting and ending at the desired dates with the specified frequencies. "
   ]
  },
  {
   "cell_type": "code",
   "execution_count": null,
   "id": "c74cec8f-fdb6-4eba-9039-72f9332bd480",
   "metadata": {},
   "outputs": [],
   "source": [
    "aug2014 = pd.Period('2014-08', freq = 'M')\n",
    "aug2014\n",
    "# period('2014-08', 'M') contains only two dates, 1st and 31 of Aug, 2014 since the frequency is monthly."
   ]
  },
  {
   "cell_type": "code",
   "execution_count": null,
   "id": "a83fd45e-cf26-4d00-9d05-e5f778a61aa9",
   "metadata": {},
   "outputs": [],
   "source": [
    "aug2014.start_time, aug2014.end_time\n",
    "# pandas assumes the start date to be 1st of Aug, when only month (partial date) is mentioned. Then using the one \n",
    "# month frequency, it figures the end date to be 31st of Aug."
   ]
  },
  {
   "cell_type": "code",
   "execution_count": null,
   "id": "858a9db1-c819-42be-8325-95a2a3deabe1",
   "metadata": {},
   "outputs": [],
   "source": [
    "sep2014 = aug2014 + 1\n",
    "sep2014\n",
    "# operators overloading when plus sign in this carries a different meaning and operation that it's usual behaviour.\n",
    "# In this case, addition of 1 to aug2014 will create the next month (sep2014) since the existing period (aug2014) is \n",
    "# based on a monthly frequency. If it were based on a quarterly frequency, then +1 will create next quarter."
   ]
  },
  {
   "cell_type": "code",
   "execution_count": null,
   "id": "8e7ed349-0a65-466d-8ea3-419ff3dbf4b5",
   "metadata": {},
   "outputs": [],
   "source": [
    "sep2014.start_time, sep2014.end_time\n",
    "# note that the pandas itself has figured out that September has 30 days unlike Aug that ended with the date 31."
   ]
  },
  {
   "cell_type": "code",
   "execution_count": null,
   "id": "bf842fe2-e72a-4542-bedf-d8718ba78bd0",
   "metadata": {},
   "outputs": [],
   "source": [
    "# Period Objects: can be combined to form a PeriodIndex as shown below:"
   ]
  },
  {
   "cell_type": "code",
   "execution_count": null,
   "id": "779c1cd8-95c5-4910-906b-2bc27ed15fd4",
   "metadata": {},
   "outputs": [],
   "source": [
    "mp2013 = pd.period_range('2013-01-01', '2013-12-31', freq = 'M')\n",
    "mp2013\n",
    "# PeriodIndex has been created as shown below and confirmed in the type command.\n",
    "# In PeriodIndex, the index labels are period objects whereas in DatetimeIndex the index labels are TimeStamps."
   ]
  },
  {
   "cell_type": "code",
   "execution_count": null,
   "id": "84c6b03f-a39f-460b-8f9b-ec85839b7fde",
   "metadata": {},
   "outputs": [],
   "source": [
    "type(mp2013)"
   ]
  },
  {
   "cell_type": "code",
   "execution_count": null,
   "id": "96203ab7-89cb-432a-b204-671cf27eca8e",
   "metadata": {},
   "outputs": [],
   "source": [
    "type(mp2013[0])\n",
    "# PeriodIndex contains period objects."
   ]
  },
  {
   "cell_type": "code",
   "execution_count": null,
   "id": "3b1040f6-4931-4e0c-85c7-ca23a5a2fd74",
   "metadata": {},
   "outputs": [],
   "source": [
    "for p in mp2013:\n",
    "    print (\"{0} {1} {2} {3}\".format(p, p.freq, p.start_time, p.end_time))\n",
    "# first '2013-01' is taken from 'mp2013' and put in p, then print is executed. In print, the {} represents placeholders\n",
    "# for what comes in () after format. For instance,p relates with {0}, p.freq relates with {1} and so on. Note that the\n",
    "# PeriodIndex has Period objects as can be seen immediately above. Therefore, they have the property of .start_time and\n",
    "# .end_time.    "
   ]
  },
  {
   "cell_type": "code",
   "execution_count": null,
   "id": "68a3d5e2-d108-4c78-bca6-1ad48c563185",
   "metadata": {},
   "outputs": [],
   "source": [
    "s = np.random.randn(12)\n",
    "s"
   ]
  },
  {
   "cell_type": "code",
   "execution_count": null,
   "id": "374640e0-0698-4d65-a7cd-0304c9885b2d",
   "metadata": {},
   "outputs": [],
   "source": [
    "pandas_series = pd.Series(s, mp2013)\n",
    "pandas_series\n",
    "# this series has index labels containing Period Objects so the index is PeriodIndex rather than DatetimeIndex.\n",
    "# this type of indexing is especially helpfull when we are interested in finding average prices each month rather than\n",
    "# prices at specific dates."
   ]
  }
 ],
 "metadata": {
  "kernelspec": {
   "display_name": "Python 3 (ipykernel)",
   "language": "python",
   "name": "python3"
  },
  "language_info": {
   "codemirror_mode": {
    "name": "ipython",
    "version": 3
   },
   "file_extension": ".py",
   "mimetype": "text/x-python",
   "name": "python",
   "nbconvert_exporter": "python",
   "pygments_lexer": "ipython3",
   "version": "3.10.0"
  }
 },
 "nbformat": 4,
 "nbformat_minor": 5
}

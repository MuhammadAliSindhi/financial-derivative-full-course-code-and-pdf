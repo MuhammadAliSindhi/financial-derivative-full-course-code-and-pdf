{
 "cells": [
  {
   "cell_type": "code",
   "execution_count": null,
   "id": "1f590671-d76d-4303-9603-d115d00ef3e0",
   "metadata": {
    "tags": []
   },
   "outputs": [],
   "source": [
    "# Bismillah"
   ]
  },
  {
   "cell_type": "code",
   "execution_count": 1,
   "id": "8416c9c5-adf6-431b-9d82-57ef24de2868",
   "metadata": {
    "tags": []
   },
   "outputs": [],
   "source": [
    "import numpy as np\n",
    "import pandas as pd\n",
    "import datetime as dt\n",
    "# from datetime import datetime\n",
    "import matplotlib.pyplot as plt\n",
    "%matplotlib inline\n",
    "pd.set_option('precision', 7)\n",
    "from pandas_datareader import data as web"
   ]
  },
  {
   "cell_type": "code",
   "execution_count": 2,
   "id": "f32cb451-7754-4ab2-bb45-100df21ed561",
   "metadata": {},
   "outputs": [
    {
     "data": {
      "text/html": [
       "<div>\n",
       "<style scoped>\n",
       "    .dataframe tbody tr th:only-of-type {\n",
       "        vertical-align: middle;\n",
       "    }\n",
       "\n",
       "    .dataframe tbody tr th {\n",
       "        vertical-align: top;\n",
       "    }\n",
       "\n",
       "    .dataframe thead th {\n",
       "        text-align: right;\n",
       "    }\n",
       "</style>\n",
       "<table border=\"1\" class=\"dataframe\">\n",
       "  <thead>\n",
       "    <tr style=\"text-align: right;\">\n",
       "      <th></th>\n",
       "      <th>High</th>\n",
       "      <th>Low</th>\n",
       "      <th>Open</th>\n",
       "      <th>Close</th>\n",
       "      <th>Volume</th>\n",
       "      <th>Adj Close</th>\n",
       "    </tr>\n",
       "    <tr>\n",
       "      <th>Date</th>\n",
       "      <th></th>\n",
       "      <th></th>\n",
       "      <th></th>\n",
       "      <th></th>\n",
       "      <th></th>\n",
       "      <th></th>\n",
       "    </tr>\n",
       "  </thead>\n",
       "  <tbody>\n",
       "    <tr>\n",
       "      <th>2012-01-03</th>\n",
       "      <td>26.9599991</td>\n",
       "      <td>26.3899994</td>\n",
       "      <td>26.5499992</td>\n",
       "      <td>26.7700005</td>\n",
       "      <td>64731500.0</td>\n",
       "      <td>21.6231346</td>\n",
       "    </tr>\n",
       "    <tr>\n",
       "      <th>2012-01-04</th>\n",
       "      <td>27.4699993</td>\n",
       "      <td>26.7800007</td>\n",
       "      <td>26.8199997</td>\n",
       "      <td>27.3999996</td>\n",
       "      <td>80516100.0</td>\n",
       "      <td>22.1320076</td>\n",
       "    </tr>\n",
       "    <tr>\n",
       "      <th>2012-01-05</th>\n",
       "      <td>27.7299995</td>\n",
       "      <td>27.2900009</td>\n",
       "      <td>27.3799992</td>\n",
       "      <td>27.6800003</td>\n",
       "      <td>56081400.0</td>\n",
       "      <td>22.3581734</td>\n",
       "    </tr>\n",
       "    <tr>\n",
       "      <th>2012-01-06</th>\n",
       "      <td>28.1900005</td>\n",
       "      <td>27.5300007</td>\n",
       "      <td>27.5300007</td>\n",
       "      <td>28.1100006</td>\n",
       "      <td>99455500.0</td>\n",
       "      <td>22.7055054</td>\n",
       "    </tr>\n",
       "    <tr>\n",
       "      <th>2012-01-09</th>\n",
       "      <td>28.1000004</td>\n",
       "      <td>27.7199993</td>\n",
       "      <td>28.0499992</td>\n",
       "      <td>27.7399998</td>\n",
       "      <td>59706800.0</td>\n",
       "      <td>22.4066391</td>\n",
       "    </tr>\n",
       "    <tr>\n",
       "      <th>...</th>\n",
       "      <td>...</td>\n",
       "      <td>...</td>\n",
       "      <td>...</td>\n",
       "      <td>...</td>\n",
       "      <td>...</td>\n",
       "      <td>...</td>\n",
       "    </tr>\n",
       "    <tr>\n",
       "      <th>2013-12-23</th>\n",
       "      <td>36.8899994</td>\n",
       "      <td>36.5499992</td>\n",
       "      <td>36.8100014</td>\n",
       "      <td>36.6199989</td>\n",
       "      <td>25128700.0</td>\n",
       "      <td>31.3362350</td>\n",
       "    </tr>\n",
       "    <tr>\n",
       "      <th>2013-12-24</th>\n",
       "      <td>37.1699982</td>\n",
       "      <td>36.6399994</td>\n",
       "      <td>36.7200012</td>\n",
       "      <td>37.0800018</td>\n",
       "      <td>14243000.0</td>\n",
       "      <td>31.7298698</td>\n",
       "    </tr>\n",
       "    <tr>\n",
       "      <th>2013-12-26</th>\n",
       "      <td>37.4900017</td>\n",
       "      <td>37.1699982</td>\n",
       "      <td>37.2000008</td>\n",
       "      <td>37.4399986</td>\n",
       "      <td>17612800.0</td>\n",
       "      <td>32.0379257</td>\n",
       "    </tr>\n",
       "    <tr>\n",
       "      <th>2013-12-27</th>\n",
       "      <td>37.6199989</td>\n",
       "      <td>37.1699982</td>\n",
       "      <td>37.5800018</td>\n",
       "      <td>37.2900009</td>\n",
       "      <td>14563000.0</td>\n",
       "      <td>31.9095612</td>\n",
       "    </tr>\n",
       "    <tr>\n",
       "      <th>2013-12-30</th>\n",
       "      <td>37.3800011</td>\n",
       "      <td>36.9000015</td>\n",
       "      <td>37.2200012</td>\n",
       "      <td>37.2900009</td>\n",
       "      <td>16290500.0</td>\n",
       "      <td>31.9095612</td>\n",
       "    </tr>\n",
       "  </tbody>\n",
       "</table>\n",
       "<p>501 rows × 6 columns</p>\n",
       "</div>"
      ],
      "text/plain": [
       "                  High         Low        Open       Close      Volume  \\\n",
       "Date                                                                     \n",
       "2012-01-03  26.9599991  26.3899994  26.5499992  26.7700005  64731500.0   \n",
       "2012-01-04  27.4699993  26.7800007  26.8199997  27.3999996  80516100.0   \n",
       "2012-01-05  27.7299995  27.2900009  27.3799992  27.6800003  56081400.0   \n",
       "2012-01-06  28.1900005  27.5300007  27.5300007  28.1100006  99455500.0   \n",
       "2012-01-09  28.1000004  27.7199993  28.0499992  27.7399998  59706800.0   \n",
       "...                ...         ...         ...         ...         ...   \n",
       "2013-12-23  36.8899994  36.5499992  36.8100014  36.6199989  25128700.0   \n",
       "2013-12-24  37.1699982  36.6399994  36.7200012  37.0800018  14243000.0   \n",
       "2013-12-26  37.4900017  37.1699982  37.2000008  37.4399986  17612800.0   \n",
       "2013-12-27  37.6199989  37.1699982  37.5800018  37.2900009  14563000.0   \n",
       "2013-12-30  37.3800011  36.9000015  37.2200012  37.2900009  16290500.0   \n",
       "\n",
       "             Adj Close  \n",
       "Date                    \n",
       "2012-01-03  21.6231346  \n",
       "2012-01-04  22.1320076  \n",
       "2012-01-05  22.3581734  \n",
       "2012-01-06  22.7055054  \n",
       "2012-01-09  22.4066391  \n",
       "...                ...  \n",
       "2013-12-23  31.3362350  \n",
       "2013-12-24  31.7298698  \n",
       "2013-12-26  32.0379257  \n",
       "2013-12-27  31.9095612  \n",
       "2013-12-30  31.9095612  \n",
       "\n",
       "[501 rows x 6 columns]"
      ]
     },
     "execution_count": 2,
     "metadata": {},
     "output_type": "execute_result"
    }
   ],
   "source": [
    "msft = web.DataReader('MSFT', 'yahoo', '2012-01-01', '2013-12-30')\n",
    "msft\n",
    "\n",
    "# collects the data from yahoo finance for Microsoft for the said period and stores it in data frame, msft."
   ]
  },
  {
   "cell_type": "markdown",
   "id": "bb3c088e-3e1a-493b-a561-df3ab5dc1cfc",
   "metadata": {},
   "source": [
    "### Shifting and lagging time-series data:"
   ]
  },
  {
   "cell_type": "code",
   "execution_count": 5,
   "id": "1c0599cb-ea5a-4a34-84c8-325c24ad016f",
   "metadata": {},
   "outputs": [
    {
     "data": {
      "text/plain": [
       "Date\n",
       "2012-01-03    21.6231346\n",
       "2012-01-04    22.1320076\n",
       "2012-01-05    22.3581734\n",
       "2012-01-06    22.7055054\n",
       "2012-01-09    22.4066391\n",
       "                 ...    \n",
       "2013-12-23    31.3362350\n",
       "2013-12-24    31.7298698\n",
       "2013-12-26    32.0379257\n",
       "2013-12-27    31.9095612\n",
       "2013-12-30    31.9095612\n",
       "Name: Adj Close, Length: 501, dtype: float64"
      ]
     },
     "execution_count": 5,
     "metadata": {},
     "output_type": "execute_result"
    }
   ],
   "source": [
    "msftAC = msft['Adj Close']\n",
    "msftAC\n",
    "\n",
    "# select only 'Adj Close' column from the msft data frame, and store it in a series, msftAC."
   ]
  },
  {
   "cell_type": "code",
   "execution_count": 4,
   "id": "4a109524-e431-433a-86e3-ac2a9efa53b1",
   "metadata": {},
   "outputs": [
    {
     "data": {
      "text/plain": [
       "pandas.core.series.Series"
      ]
     },
     "execution_count": 4,
     "metadata": {},
     "output_type": "execute_result"
    }
   ],
   "source": [
    "type(msftAC)\n",
    "\n",
    "# msftAC is a series. We can convert it to a data frame by typing: msftAC = msft[['Adj Close']]"
   ]
  },
  {
   "cell_type": "code",
   "execution_count": 7,
   "id": "8acb3a08-a412-43e1-9ebf-42a20432da66",
   "metadata": {},
   "outputs": [
    {
     "data": {
      "text/plain": [
       "(Date\n",
       " 2012-01-03    21.6231346\n",
       " 2012-01-04    22.1320076\n",
       " 2012-01-05    22.3581734\n",
       " 2012-01-06    22.7055054\n",
       " 2012-01-09    22.4066391\n",
       " Name: Adj Close, dtype: float64,\n",
       " Date\n",
       " 2012-01-03           NaN\n",
       " 2012-01-04    21.6231346\n",
       " 2012-01-05    22.1320076\n",
       " 2012-01-06    22.3581734\n",
       " 2012-01-09    22.7055054\n",
       " Name: Adj Close, dtype: float64)"
      ]
     },
     "execution_count": 7,
     "metadata": {},
     "output_type": "execute_result"
    }
   ],
   "source": [
    "shift_forward = msftAC.shift(1)\n",
    "msftAC.head(), shift_forward.head()\n",
    "# This will shift the prices one day forward.\n",
    "# results in one NaN value at the start since there was no value prior to be shifted to 2012-01-03.\n",
    "# the number of NaN values will depend on the number of indices we are shifting forward or backward. For instance, the index is \n",
    "# daily dates, so if we shift one day forward, it means we are forwarding one index resulting into one NaN value. If we would \n",
    "# shift 2 days forward, it means we are forwarding two indices resulting into two NaN values."
   ]
  },
  {
   "cell_type": "code",
   "execution_count": 8,
   "id": "1bc1d65f-a4e8-456d-8307-d1aaabcefd03",
   "metadata": {},
   "outputs": [
    {
     "data": {
      "text/plain": [
       "(Date\n",
       " 2013-12-23    31.3362350\n",
       " 2013-12-24    31.7298698\n",
       " 2013-12-26    32.0379257\n",
       " 2013-12-27    31.9095612\n",
       " 2013-12-30    31.9095612\n",
       " Name: Adj Close, dtype: float64,\n",
       " Date\n",
       " 2013-12-23    31.4902592\n",
       " 2013-12-24    31.3362350\n",
       " 2013-12-26    31.7298698\n",
       " 2013-12-27    32.0379257\n",
       " 2013-12-30    31.9095612\n",
       " Name: Adj Close, dtype: float64)"
      ]
     },
     "execution_count": 8,
     "metadata": {},
     "output_type": "execute_result"
    }
   ],
   "source": [
    "msftAC.tail(), shift_forward.tail()\n",
    "# the last price 31.9755402 on date 2013-12-30 in msftAC has been lost away in shift_forward since there is no index available for\n",
    "# it now after the prices have been shifted one day forward. So, we got one NaN value at the start and one value lost at the end\n",
    "# by shifting one day forward."
   ]
  },
  {
   "cell_type": "code",
   "execution_count": 9,
   "id": "ea6ea3a0-15ab-4f13-80b0-9d100b18f37e",
   "metadata": {},
   "outputs": [],
   "source": [
    "shift_backward = msftAC.shift(-2)\n",
    "# will shift two days (two indices) backward."
   ]
  },
  {
   "cell_type": "code",
   "execution_count": 10,
   "id": "52660bfa-ee90-421d-b08a-bc136e03daaf",
   "metadata": {},
   "outputs": [
    {
     "data": {
      "text/plain": [
       "(Date\n",
       " 2012-01-03    21.6231346\n",
       " 2012-01-04    22.1320076\n",
       " 2012-01-05    22.3581734\n",
       " 2012-01-06    22.7055054\n",
       " 2012-01-09    22.4066391\n",
       "                  ...    \n",
       " 2013-12-23    31.3362350\n",
       " 2013-12-24    31.7298698\n",
       " 2013-12-26    32.0379257\n",
       " 2013-12-27    31.9095612\n",
       " 2013-12-30    31.9095612\n",
       " Name: Adj Close, Length: 501, dtype: float64,\n",
       " Date\n",
       " 2012-01-03    22.3581734\n",
       " 2012-01-04    22.7055054\n",
       " 2012-01-05    22.4066391\n",
       " 2012-01-06    22.4874153\n",
       " 2012-01-09    22.3904819\n",
       "                  ...    \n",
       " 2013-12-23    32.0379257\n",
       " 2013-12-24    31.9095612\n",
       " 2013-12-26    31.9095612\n",
       " 2013-12-27           NaN\n",
       " 2013-12-30           NaN\n",
       " Name: Adj Close, Length: 501, dtype: float64)"
      ]
     },
     "execution_count": 10,
     "metadata": {},
     "output_type": "execute_result"
    }
   ],
   "source": [
    "msftAC, shift_backward\n",
    "# inserts two NaNs at the end since we have shifted two days (two indices) backward and the first two values lost since there are \n",
    "# no indices available for them."
   ]
  },
  {
   "cell_type": "code",
   "execution_count": 11,
   "id": "a69327ab-0876-4967-8aaf-40caa022afce",
   "metadata": {},
   "outputs": [],
   "source": [
    "shift_1sec = msftAC.shift(1, freq = 'S')"
   ]
  },
  {
   "cell_type": "code",
   "execution_count": 12,
   "id": "7b6dc144-292b-40b0-8a47-c6f22d672d8a",
   "metadata": {},
   "outputs": [
    {
     "data": {
      "text/plain": [
       "(Date\n",
       " 2012-01-03    21.6231346\n",
       " 2012-01-04    22.1320076\n",
       " 2012-01-05    22.3581734\n",
       " 2012-01-06    22.7055054\n",
       " 2012-01-09    22.4066391\n",
       "                  ...    \n",
       " 2013-12-23    31.3362350\n",
       " 2013-12-24    31.7298698\n",
       " 2013-12-26    32.0379257\n",
       " 2013-12-27    31.9095612\n",
       " 2013-12-30    31.9095612\n",
       " Name: Adj Close, Length: 501, dtype: float64,\n",
       " Date\n",
       " 2012-01-03 00:00:01    21.6231346\n",
       " 2012-01-04 00:00:01    22.1320076\n",
       " 2012-01-05 00:00:01    22.3581734\n",
       " 2012-01-06 00:00:01    22.7055054\n",
       " 2012-01-09 00:00:01    22.4066391\n",
       "                           ...    \n",
       " 2013-12-23 00:00:01    31.3362350\n",
       " 2013-12-24 00:00:01    31.7298698\n",
       " 2013-12-26 00:00:01    32.0379257\n",
       " 2013-12-27 00:00:01    31.9095612\n",
       " 2013-12-30 00:00:01    31.9095612\n",
       " Name: Adj Close, Length: 501, dtype: float64)"
      ]
     },
     "execution_count": 12,
     "metadata": {},
     "output_type": "execute_result"
    }
   ],
   "source": [
    "msftAC, shift_1sec\n",
    "# the prices have been shifted just one second forward each day. That means that the prices still exist on the same date. So, no\n",
    "# value is lost and no NaN is inserted.\n",
    "# the frequency could be changed to any desirable level such as hour etc.\n",
    "# Note that the index labels have been adjusted according to the specified frequency resulting into a new dataframe or series in \n",
    "# this case."
   ]
  },
  {
   "cell_type": "code",
   "execution_count": 13,
   "id": "d0d0f8f8-4ffb-4add-b1a6-222806d9ab81",
   "metadata": {},
   "outputs": [
    {
     "data": {
      "text/plain": [
       "Date\n",
       "2012-01-03 00:00:01    21.6231346\n",
       "2012-01-04 00:00:01    22.1320076\n",
       "2012-01-05 00:00:01    22.3581734\n",
       "2012-01-06 00:00:01    22.7055054\n",
       "Name: Adj Close, dtype: float64"
      ]
     },
     "execution_count": 13,
     "metadata": {},
     "output_type": "execute_result"
    }
   ],
   "source": [
    "shift_1sec['2012-01-03':'2012-01-06']\n",
    "# note that the indices now include the time as well in addition to the date."
   ]
  },
  {
   "cell_type": "markdown",
   "id": "46477297-0d4c-474a-9312-3e4e323cf04a",
   "metadata": {},
   "source": [
    "### Practical Example:"
   ]
  },
  {
   "cell_type": "code",
   "execution_count": 14,
   "id": "264d1ed1-f07d-4b1a-ad71-b605baea97d4",
   "metadata": {},
   "outputs": [
    {
     "data": {
      "text/plain": [
       "(Date\n",
       " 2012-01-03    21.6231346\n",
       " 2012-01-04    22.1320076\n",
       " 2012-01-05    22.3581734\n",
       " 2012-01-06    22.7055054\n",
       " 2012-01-09    22.4066391\n",
       "                  ...    \n",
       " 2013-12-23    31.3362350\n",
       " 2013-12-24    31.7298698\n",
       " 2013-12-26    32.0379257\n",
       " 2013-12-27    31.9095612\n",
       " 2013-12-30    31.9095612\n",
       " Name: Adj Close, Length: 501, dtype: float64,\n",
       " Date\n",
       " 2012-01-03           NaN\n",
       " 2012-01-04    21.6231346\n",
       " 2012-01-05    22.1320076\n",
       " 2012-01-06    22.3581734\n",
       " 2012-01-09    22.7055054\n",
       "                  ...    \n",
       " 2013-12-23    31.4902592\n",
       " 2013-12-24    31.3362350\n",
       " 2013-12-26    31.7298698\n",
       " 2013-12-27    32.0379257\n",
       " 2013-12-30    31.9095612\n",
       " Name: Adj Close, Length: 501, dtype: float64)"
      ]
     },
     "execution_count": 14,
     "metadata": {},
     "output_type": "execute_result"
    }
   ],
   "source": [
    "msftAC, msftAC.shift(1)\n",
    "# the prices have been shifted one day forward."
   ]
  },
  {
   "cell_type": "code",
   "execution_count": 15,
   "id": "c80c0725-172d-4632-90b8-86c34a1bd4bc",
   "metadata": {},
   "outputs": [
    {
     "data": {
      "text/plain": [
       "Date\n",
       "2012-01-03    1.0\n",
       "2012-01-04    1.0\n",
       "2012-01-05    1.0\n",
       "2012-01-06    1.0\n",
       "2012-01-09    1.0\n",
       "             ... \n",
       "2013-12-23    1.0\n",
       "2013-12-24    1.0\n",
       "2013-12-26    1.0\n",
       "2013-12-27    1.0\n",
       "2013-12-30    1.0\n",
       "Name: Adj Close, Length: 501, dtype: float64"
      ]
     },
     "execution_count": 15,
     "metadata": {},
     "output_type": "execute_result"
    }
   ],
   "source": [
    "msftAC/msftAC"
   ]
  },
  {
   "cell_type": "code",
   "execution_count": 16,
   "id": "bdda981b-285d-45a4-95c6-1cffa939c8ad",
   "metadata": {},
   "outputs": [
    {
     "data": {
      "text/plain": [
       "Date\n",
       "2012-01-03          NaN\n",
       "2012-01-04    1.0235337\n",
       "2012-01-05    1.0102189\n",
       "2012-01-06    1.0155349\n",
       "2012-01-09    0.9868373\n",
       "                ...    \n",
       "2013-12-23    0.9951088\n",
       "2013-12-24    1.0125616\n",
       "2013-12-26    1.0097087\n",
       "2013-12-27    0.9959934\n",
       "2013-12-30    1.0000000\n",
       "Name: Adj Close, Length: 501, dtype: float64"
      ]
     },
     "execution_count": 16,
     "metadata": {},
     "output_type": "execute_result"
    }
   ],
   "source": [
    "msftAC / msftAC.shift(1)\n",
    "# the dividsion is based on the same index labels. That is, the price on 2012-01-04 in msftAC is divided the price on 2012-01-04 in\n",
    "# msftAC.shift(1). This is equal t`o (current price divided by previous price). The previous price is the amount invested.\n",
    "\n",
    "# Interpretation: the $1 invested has grown to $1.0235337. So, the net return is $1.0235337 - 1 = $0.0235337. That is why we need\n",
    "# to subtract 1 as shown below.\n",
    "# the first value is NaN because value is missing in msftAC.shift(1) on 2012-01-03.\n",
    "# the last value is 1.00000 because in both msftAC and msftAC.shift(1) the value on 2013-12-30 is the same.\n",
    "\n",
    "# Very important to note that we CANNOT say that $1 investment at the start (2012-01-03) has grown to (or in this case \n",
    "# has remained same) to $1 at the end of the period (2013-12-30) since we can see that the adj close price at the start\n",
    "# is $21.62 and at the end is $31.90. So, there is definately a gain. But then why we have 1 at the end of the output of\n",
    "# this cell? It is because these returns are computed on daily basis. So, this 1 shows that $1 dollar invested on 2013-12\n",
    "#-27 has remained same $1 and it makes sense since the price has remained unchanged from 2013-12-27 to 2013-12-30. To find\n",
    "# the total return, we need to find the cumulative product."
   ]
  },
  {
   "cell_type": "code",
   "execution_count": 17,
   "id": "964fa8f5-04f1-47f4-b5e5-d864485f2052",
   "metadata": {},
   "outputs": [
    {
     "data": {
      "text/plain": [
       "Date\n",
       "2012-01-03          NaN\n",
       "2012-01-04    1.0235337\n",
       "2012-01-05    1.0339932\n",
       "2012-01-06    1.0500561\n",
       "2012-01-09    1.0362345\n",
       "                ...    \n",
       "2013-12-23    1.4491995\n",
       "2013-12-24    1.4674038\n",
       "2013-12-26    1.4816504\n",
       "2013-12-27    1.4757139\n",
       "2013-12-30    1.4757139\n",
       "Name: Adj Close, Length: 501, dtype: float64"
      ]
     },
     "execution_count": 17,
     "metadata": {},
     "output_type": "execute_result"
    }
   ],
   "source": [
    "np.cumprod(msftAC / msftAC.shift(1))\n",
    "\n",
    "# just for the confirmation of the above."
   ]
  },
  {
   "cell_type": "code",
   "execution_count": 18,
   "id": "54b30761-92a1-47fb-b7ef-93a35bb1e9bd",
   "metadata": {},
   "outputs": [
    {
     "data": {
      "text/plain": [
       "1.4757141177856794"
      ]
     },
     "execution_count": 18,
     "metadata": {},
     "output_type": "execute_result"
    }
   ],
   "source": [
    "31.9095650 / 21.6231346\n",
    "\n",
    "# just for the confirmation above"
   ]
  },
  {
   "cell_type": "code",
   "execution_count": 19,
   "id": "f81eee7e-255a-4a6c-a367-fdd1f6e69a2d",
   "metadata": {},
   "outputs": [
    {
     "data": {
      "text/plain": [
       "Date\n",
       "2012-01-03          NaN\n",
       "2012-01-04    0.0235337\n",
       "2012-01-05    0.0102189\n",
       "2012-01-06    0.0155349\n",
       "2012-01-09   -0.0131627\n",
       "                ...    \n",
       "2013-12-23   -0.0048912\n",
       "2013-12-24    0.0125616\n",
       "2013-12-26    0.0097087\n",
       "2013-12-27   -0.0040066\n",
       "2013-12-30    0.0000000\n",
       "Name: Adj Close, Length: 501, dtype: float64"
      ]
     },
     "execution_count": 19,
     "metadata": {},
     "output_type": "execute_result"
    }
   ],
   "source": [
    "percent_change = msftAC / msftAC.shift(1) - 1\n",
    "percent_change\n",
    "# gives the net daily change or return.\n",
    "# the price has increased by 2.3% from 2012-01-03 to 2012-01-04."
   ]
  },
  {
   "cell_type": "markdown",
   "id": "8b04803d-a6fb-4bda-a436-52ea08eee558",
   "metadata": {},
   "source": [
    "### Frequency Conversion of Time-Series Data:"
   ]
  },
  {
   "cell_type": "code",
   "execution_count": 20,
   "id": "42a04e4a-c6c0-40ef-b6eb-15366a9fabe4",
   "metadata": {},
   "outputs": [
    {
     "data": {
      "text/plain": [
       "Date\n",
       "2012-01-03    21.6231346\n",
       "2012-01-04    22.1320076\n",
       "Name: Adj Close, dtype: float64"
      ]
     },
     "execution_count": 20,
     "metadata": {},
     "output_type": "execute_result"
    }
   ],
   "source": [
    "sample = msftAC[:2]\n",
    "sample\n",
    "# selected first 2 rows and stored them in 'sample'"
   ]
  },
  {
   "cell_type": "code",
   "execution_count": 21,
   "id": "865e3fe2-7137-415d-a9d1-23390e1fbad5",
   "metadata": {},
   "outputs": [
    {
     "data": {
      "text/plain": [
       "Date\n",
       "2012-01-03 00:00:00    21.6231346\n",
       "2012-01-03 01:00:00           NaN\n",
       "2012-01-03 02:00:00           NaN\n",
       "2012-01-03 03:00:00           NaN\n",
       "2012-01-03 04:00:00           NaN\n",
       "2012-01-03 05:00:00           NaN\n",
       "2012-01-03 06:00:00           NaN\n",
       "2012-01-03 07:00:00           NaN\n",
       "2012-01-03 08:00:00           NaN\n",
       "2012-01-03 09:00:00           NaN\n",
       "2012-01-03 10:00:00           NaN\n",
       "2012-01-03 11:00:00           NaN\n",
       "2012-01-03 12:00:00           NaN\n",
       "2012-01-03 13:00:00           NaN\n",
       "2012-01-03 14:00:00           NaN\n",
       "2012-01-03 15:00:00           NaN\n",
       "2012-01-03 16:00:00           NaN\n",
       "2012-01-03 17:00:00           NaN\n",
       "2012-01-03 18:00:00           NaN\n",
       "2012-01-03 19:00:00           NaN\n",
       "2012-01-03 20:00:00           NaN\n",
       "2012-01-03 21:00:00           NaN\n",
       "2012-01-03 22:00:00           NaN\n",
       "2012-01-03 23:00:00           NaN\n",
       "2012-01-04 00:00:00    22.1320076\n",
       "Freq: H, Name: Adj Close, dtype: float64"
      ]
     },
     "execution_count": 21,
     "metadata": {},
     "output_type": "execute_result"
    }
   ],
   "source": [
    "sample.asfreq('H')\n",
    "# to have hourly data between the two index labels.\n",
    "# a new index with hourly index labels has been created by pandas, but when aligning to the original time series, only two values\n",
    "# were found, thereby leaving the others filled with NaN. This default behaviour can be changed as follows:"
   ]
  },
  {
   "cell_type": "code",
   "execution_count": 22,
   "id": "4994e712-ef45-4268-b5af-02a8af9162ff",
   "metadata": {},
   "outputs": [
    {
     "data": {
      "text/plain": [
       "Date\n",
       "2012-01-03 00:00:00    21.6231346\n",
       "2012-01-03 01:00:00    21.6231346\n",
       "2012-01-03 02:00:00    21.6231346\n",
       "2012-01-03 03:00:00    21.6231346\n",
       "2012-01-03 04:00:00    21.6231346\n",
       "2012-01-03 05:00:00    21.6231346\n",
       "2012-01-03 06:00:00    21.6231346\n",
       "2012-01-03 07:00:00    21.6231346\n",
       "2012-01-03 08:00:00    21.6231346\n",
       "2012-01-03 09:00:00    21.6231346\n",
       "2012-01-03 10:00:00    21.6231346\n",
       "2012-01-03 11:00:00    21.6231346\n",
       "2012-01-03 12:00:00    21.6231346\n",
       "2012-01-03 13:00:00    21.6231346\n",
       "2012-01-03 14:00:00    21.6231346\n",
       "2012-01-03 15:00:00    21.6231346\n",
       "2012-01-03 16:00:00    21.6231346\n",
       "2012-01-03 17:00:00    21.6231346\n",
       "2012-01-03 18:00:00    21.6231346\n",
       "2012-01-03 19:00:00    21.6231346\n",
       "2012-01-03 20:00:00    21.6231346\n",
       "2012-01-03 21:00:00    21.6231346\n",
       "2012-01-03 22:00:00    21.6231346\n",
       "2012-01-03 23:00:00    21.6231346\n",
       "2012-01-04 00:00:00    22.1320076\n",
       "Freq: H, Name: Adj Close, dtype: float64"
      ]
     },
     "execution_count": 22,
     "metadata": {},
     "output_type": "execute_result"
    }
   ],
   "source": [
    "sample.asfreq('H', method = 'ffill')\n",
    "# forward fill will take the earlier known value and fill all the missing values with it."
   ]
  },
  {
   "cell_type": "code",
   "execution_count": 23,
   "id": "02f4d82c-bc33-4539-941e-3afd8d590577",
   "metadata": {},
   "outputs": [
    {
     "data": {
      "text/plain": [
       "Date\n",
       "2012-01-03 00:00:00    21.6231346\n",
       "2012-01-03 01:00:00    22.1320076\n",
       "2012-01-03 02:00:00    22.1320076\n",
       "2012-01-03 03:00:00    22.1320076\n",
       "2012-01-03 04:00:00    22.1320076\n",
       "2012-01-03 05:00:00    22.1320076\n",
       "2012-01-03 06:00:00    22.1320076\n",
       "2012-01-03 07:00:00    22.1320076\n",
       "2012-01-03 08:00:00    22.1320076\n",
       "2012-01-03 09:00:00    22.1320076\n",
       "2012-01-03 10:00:00    22.1320076\n",
       "2012-01-03 11:00:00    22.1320076\n",
       "2012-01-03 12:00:00    22.1320076\n",
       "2012-01-03 13:00:00    22.1320076\n",
       "2012-01-03 14:00:00    22.1320076\n",
       "2012-01-03 15:00:00    22.1320076\n",
       "2012-01-03 16:00:00    22.1320076\n",
       "2012-01-03 17:00:00    22.1320076\n",
       "2012-01-03 18:00:00    22.1320076\n",
       "2012-01-03 19:00:00    22.1320076\n",
       "2012-01-03 20:00:00    22.1320076\n",
       "2012-01-03 21:00:00    22.1320076\n",
       "2012-01-03 22:00:00    22.1320076\n",
       "2012-01-03 23:00:00    22.1320076\n",
       "2012-01-04 00:00:00    22.1320076\n",
       "Freq: H, Name: Adj Close, dtype: float64"
      ]
     },
     "execution_count": 23,
     "metadata": {},
     "output_type": "execute_result"
    }
   ],
   "source": [
    "sample.asfreq('H', method = 'bfill')\n",
    "# backward fill will take the next known value and fill the missing values in the backward direction."
   ]
  },
  {
   "cell_type": "markdown",
   "id": "db11eea1-33f1-496d-9cd4-808085197595",
   "metadata": {},
   "source": [
    "### Resampling of time-series:"
   ]
  },
  {
   "cell_type": "code",
   "execution_count": null,
   "id": "3da9c1f9-6303-4404-ade8-73fd651ec0ef",
   "metadata": {},
   "outputs": [],
   "source": [
    "msftAC / msftAC.shift()\n",
    "# I haven't confirmed it but i think the default argument for shift is 1 which means to shift prices forward by one day."
   ]
  },
  {
   "cell_type": "code",
   "execution_count": null,
   "id": "c97fb5a7-f80b-49f0-981b-3463467527cd",
   "metadata": {},
   "outputs": [],
   "source": [
    "(1 + (msftAC / msftAC.shift() - 1))\n",
    "# this and immediately above seems to produce the same result. Plus1 and minus1 cancels out so the result is the same as immediately above."
   ]
  },
  {
   "cell_type": "code",
   "execution_count": null,
   "id": "9bd33b7c-f730-4519-8256-281b6b8e4384",
   "metadata": {},
   "outputs": [],
   "source": [
    "msft_cum_ret = (1 + (msftAC / msftAC.shift() - 1)).cumprod()\n",
    "msft_cum_ret\n",
    "# cumprod stands for cummulative product.\n",
    "# it multiplies the value on 2012-01-04 with the value on 2012-01-05 and produces the product in the index label 2012-01-05. This product \n",
    "# can be called cumulative daily return.\n",
    "# $1 dollar invested on 2012-01-03 has grown to $1.475 on 2013-12-30."
   ]
  },
  {
   "cell_type": "code",
   "execution_count": null,
   "id": "33b36fea-a9fa-4df5-b8d2-1231fe0f471f",
   "metadata": {},
   "outputs": [],
   "source": [
    "msft_cum_ret['1/1/2012':'1/31/2012']\n",
    "# note that typing the date in this pattern is the same as typing 2012-01-04 and so on.\n",
    "# this gives us daily cumulative returns for all the month as explained above."
   ]
  },
  {
   "cell_type": "code",
   "execution_count": null,
   "id": "45ef963e-80b7-4b17-bb0b-b24079207f25",
   "metadata": {},
   "outputs": [],
   "source": [
    "msft_cum_ret['1/1/2012':'1/31/2012'].mean()\n",
    "# mean cumulative return of January 2012. It is a mean of all the daily cumulative returns in January.\n",
    "# to calculate each month mean cumulative return, we have to write this command 24 times for all 24 months."
   ]
  },
  {
   "cell_type": "code",
   "execution_count": null,
   "id": "cdb851e6-4063-4b60-a284-a61705de1b34",
   "metadata": {},
   "outputs": [],
   "source": [
    "msft_cum_ret['1/2012'].mean()\n",
    "# an alternative to the above method to compute monthly mean."
   ]
  },
  {
   "cell_type": "code",
   "execution_count": null,
   "id": "350283dc-a4c1-4d58-bf4d-68c78929c8e0",
   "metadata": {},
   "outputs": [],
   "source": [
    "(msftAC/msftAC.shift()).mean() # mean of daily returns."
   ]
  },
  {
   "cell_type": "code",
   "execution_count": null,
   "id": "6f7c516b-bf0c-458e-ba2f-b4bc951ff6a9",
   "metadata": {},
   "outputs": [],
   "source": [
    "msft_cum_ret"
   ]
  },
  {
   "cell_type": "code",
   "execution_count": null,
   "id": "a319e92d-6ab1-4076-936f-761614b7b3d4",
   "metadata": {},
   "outputs": [],
   "source": [
    "msft_monthly_cum_ret = msft_cum_ret.resample(\"M\")\n",
    "msft_monthly_cum_ret\n",
    "# a better and efficient alternative to the above two methods to compute monthly means.\n",
    "# does not return a dataframe any longer but an object stored at some location in memory. Nevermind, all the aggregation and interpolation\n",
    "# can still be validly performed as shown below."
   ]
  },
  {
   "cell_type": "code",
   "execution_count": null,
   "id": "544ee698-b84d-4d05-b153-303c44f097e2",
   "metadata": {},
   "outputs": [],
   "source": [
    "def print_info(groupobject):\n",
    "    for i, k in groupobject:\n",
    "        print (i)\n",
    "        print (k)"
   ]
  },
  {
   "cell_type": "code",
   "execution_count": null,
   "id": "62b6371c-3ee3-40b2-bbc7-e4fdb11883f0",
   "metadata": {},
   "outputs": [],
   "source": [
    "print_info(msft_monthly_cum_ret)\n",
    "# the daily cumulative returns have been grouped by month. In total, we will have 24 groups since we have 24 months."
   ]
  },
  {
   "cell_type": "code",
   "execution_count": null,
   "id": "180602e8-e5f6-473a-8c73-f15e4fd49817",
   "metadata": {},
   "outputs": [],
   "source": [
    "len(msft_monthly_cum_ret)\n",
    "# 24 groups confirmed."
   ]
  },
  {
   "cell_type": "code",
   "execution_count": null,
   "id": "5b2ce612-6d5b-474e-9304-46e87b7a54ac",
   "metadata": {},
   "outputs": [],
   "source": [
    "msft_monthly_cum_ret.size()\n",
    "# size of each group."
   ]
  },
  {
   "cell_type": "code",
   "execution_count": null,
   "id": "672743de-05c8-461b-b0f0-9a3f4c3e4e78",
   "metadata": {},
   "outputs": [],
   "source": [
    "msft_monthly_cum_ret.mean()"
   ]
  },
  {
   "cell_type": "code",
   "execution_count": null,
   "id": "11d7c32d-61cc-4ebd-8cae-216cd974382e",
   "metadata": {},
   "outputs": [],
   "source": [
    "msft_cum_ret['2/2012'].mean()\n",
    "# to compare and confirm the mean of feb in immediately above series. Confirmed and the same."
   ]
  },
  {
   "cell_type": "code",
   "execution_count": null,
   "id": "c9a05f6f-25a5-46a9-b2ff-092ebf6e0641",
   "metadata": {},
   "outputs": [],
   "source": [
    "## The above work is almost the end of page 94 in the book. After that, for about 3 pages, the discussion in the book cannot be\n",
    "# implemented here since there is change in the newer version of pandas. But what we can do something extra and interesting follows\n",
    "# as:"
   ]
  },
  {
   "cell_type": "code",
   "execution_count": null,
   "id": "c3db80b4-845f-46b5-9381-146804a1e020",
   "metadata": {},
   "outputs": [],
   "source": [
    "msft"
   ]
  },
  {
   "cell_type": "code",
   "execution_count": null,
   "id": "b53b89d2-3c5b-4718-9cbb-c2042b34b25b",
   "metadata": {},
   "outputs": [],
   "source": [
    "msft_resample = msft.resample('M')\n",
    "# the frequency has been changed to Monthly from Daily."
   ]
  },
  {
   "cell_type": "code",
   "execution_count": null,
   "id": "ce530215-a442-4405-b2d4-2333e6a072ed",
   "metadata": {},
   "outputs": [],
   "source": [
    "msft_resample"
   ]
  },
  {
   "cell_type": "code",
   "execution_count": null,
   "id": "01cded44-8fcb-4241-abc6-94620b4b39c6",
   "metadata": {},
   "outputs": [],
   "source": [
    "for i, k in msft_resample:\n",
    "    print(i)\n",
    "    print(k)\n",
    "# the data has been grouped on monthly basis into 24 groups since we have 24 months.    "
   ]
  },
  {
   "cell_type": "code",
   "execution_count": null,
   "id": "101290f7-5a40-4d1f-847d-3027074f721c",
   "metadata": {},
   "outputs": [],
   "source": [
    "msft_resample.mean().head(3)\n",
    "# mean of high, low, open, close, volume and adj close for each month."
   ]
  },
  {
   "cell_type": "code",
   "execution_count": null,
   "id": "1f5714b5-0b9e-4ce2-b3d5-d5a0140b9f44",
   "metadata": {},
   "outputs": [],
   "source": [
    "msft.loc['1/2012', 'Adj Close'].mean()\n",
    "# confirmed that 'msft_resample.mean()' has produced mean of high, low, open, close, volume and adj close for each month."
   ]
  },
  {
   "cell_type": "code",
   "execution_count": null,
   "id": "839a442b-703f-4537-b699-f8241e182796",
   "metadata": {},
   "outputs": [],
   "source": []
  },
  {
   "cell_type": "code",
   "execution_count": null,
   "id": "b201a36a-2dc7-48a4-b3af-7647dbedce55",
   "metadata": {},
   "outputs": [],
   "source": []
  }
 ],
 "metadata": {
  "kernelspec": {
   "display_name": "Python 3",
   "language": "python",
   "name": "python3"
  },
  "language_info": {
   "codemirror_mode": {
    "name": "ipython",
    "version": 3
   },
   "file_extension": ".py",
   "mimetype": "text/x-python",
   "name": "python",
   "nbconvert_exporter": "python",
   "pygments_lexer": "ipython3",
   "version": "3.8.8"
  }
 },
 "nbformat": 4,
 "nbformat_minor": 5
}
